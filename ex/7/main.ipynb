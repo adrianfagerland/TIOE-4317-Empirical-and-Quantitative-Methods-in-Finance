{
 "cells": [
  {
   "cell_type": "markdown",
   "metadata": {},
   "source": [
    "## 1"
   ]
  },
  {
   "cell_type": "markdown",
   "metadata": {},
   "source": [
    "Both models appear statistically significant. We see this by looking at \"Prob > chi2 = 0.0000\" for the first model (Random Effects) and \"Prob > F = 0.0000\" for the second model (Fixed Effects). These very low p-values indicate that, overall, the independent variables have a statistically significant relationship with the dependent variable (wage).\n",
    "\n",
    "There are three R-squared reported. Overall R-squared is the regular $R^2$ one would get from a pooled OLS, and represents the percentage of variance in the dependent variable explained by the explanatory variables.\n",
    "The within R-squared refers to variation within individuals and is the r-squared from the regression of $y_{it} - \\bar{y_i}$ against $x_{it} - \\bar{x_i}$.\n",
    "The between R-squared refers to the variance between indivudals, and is the r-squared from the regression of $\\bar{y_i}$ against $\\bar{x_i}$.\n",
    "\n"
   ]
  },
  {
   "cell_type": "markdown",
   "metadata": {},
   "source": [
    "## 2\n",
    "\n",
    "Random Effects (RE) Model:\n",
    "\n",
    "$$ wage_{it} = \\beta_0 + \\beta_1 k_{it} + \\beta_2 w_{it} + \\beta_3 n_{it} + u_i + \\epsilon_{it} $$\n",
    "\n",
    "Its assumptions are:\n",
    "*   $E[\\epsilon_{it} | X_{i}, u_i] = 0$ (Exogeneity)\n",
    "*   $E[u_i | X_i] = 0$ (Random individual effects, uncorrelated with independent variables)\n",
    "\n",
    "The estimator is GLS:\n",
    "    $$\\hat{\\beta}_{RE} = (X'\\Omega^{-1}X)^{-1}X'\\Omega^{-1}Y $$\n",
    "Where, simplifying, $\\Omega$ takes into account the variance of $u_i$ and $\\epsilon_{it}$ to create a covariance matrix. This gives a $\\hat{\\beta}_{RE}$ that is different to regular OLS.\n",
    "\n",
    "Fixed Effects (FE) Model:\n",
    "    $$ wage_{it} = \\beta_0 + \\beta_1 k_{it} + \\beta_2 w_{it} + \\beta_3 n_{it} + u_i + \\epsilon_{it} $$\n",
    "\n",
    "Its assumptions are:\n",
    "*   $E[\\epsilon_{it} | X_i, u_i] = 0$\n",
    "*   $u_i$ can be correlated with $X_i$.\n",
    "\n",
    "It uses time-demeaned data (within transformation) to eliminate the individual-specific effects. The estimator is:\n",
    "    $$\\hat{\\beta}_{FE} = (\\ddot{X}'\\ddot{X})^{-1}\\ddot{X}'\\ddot{Y}$$\n",
    "Where $\\ddot{X}, \\ddot{Y}$ is the within transformation, that is $\\ddot{X} = X_{it} - \\bar{X_i}$\n",
    "\n",
    "The main difference is that RE assumes $u_i$ is uncorrelated with the explanatory variables, while FE allows for correlation. The estimator therefore changes to account for that.\n",
    "\n"
   ]
  },
  {
   "cell_type": "markdown",
   "metadata": {},
   "source": [
    "## 3\n",
    "\n",
    "I would prefer the Fixed Effects model. The Fixed Effects output reports corr(u_i, Xb) = -0.6300, indicating a substantial correlation between the individual effects and the regressors. This violates the Random Effects assumption of zero correlation, suggesting that Random Effects may be inconsistent. The F-test at the end of the Fixed Effects output (F(139, 888) = 32.74, Prob > F = 0.0000) strongly rejects the null hypothesis that all individual effects are zero, supporting the inclusion of individual-specific effects as in the Fixed Effects model. Fixed Effects is robust to unobserved heterogeneity correlated with the regressors, which is likely in wage data where individual traits (e.g., ability) may influence both wages and explanatory variables like w or k. While Random Effects might be more efficient if its assumptions hold, the evidence of correlation and significant individual effects favors Fixed Effects for consistency.\n",
    "\n"
   ]
  },
  {
   "cell_type": "markdown",
   "metadata": {},
   "source": [
    "## 4\n",
    "\n",
    "$\\sigma_u$ is the standard deviation of the individual-specific random effects ($u_i$). Intuitively, it represent how much of the variance in the error can be attributed to time-invariant unobserved effects.\n",
    "$\\sigma_e$ is the standard deviation of the idiosyncratic error term ($\\epsilon_{it}$). Intuitively, it represents the overall variance in the model error.\n",
    "$\\rho$ is the fraction of the total variance that is due to the individual-specific effects ($u_i$). Calculated as: $\\rho = \\frac{\\sigma_u^2}{\\sigma_u^2 + \\sigma_e^2}$.\n",
    "\n",
    "The F test at the end of the second regression output tests that all $u_i=0$. This tests the null hypothesis that all individual-specific effects are zero. The high F-statistic (32.74) and the very low p-value (0.0000) lead us to reject the null hypothesis. Therefore, there are significant individual effects.\n",
    "\n"
   ]
  },
  {
   "cell_type": "markdown",
   "metadata": {},
   "source": [
    "## 5\n",
    "\n",
    "The first model uses robust standard errors that adjust for clustering due to individuals (id). This is a good practice as errors for an individual are likely autocorrelated. The FE model does not use robust standard errors.\n",
    "\n",
    "I would suggest using clustered standard errors in both models.\n",
    "In python, this could be added by adding vce(cluster id) in the regression.\n",
    "\n"
   ]
  },
  {
   "cell_type": "markdown",
   "metadata": {},
   "source": [
    "## 6\n",
    "\n",
    "We can use a Hausman test to compare.\n",
    "$$H = (\\hat{\\beta}_{FE} - \\hat{\\beta}_{RE})'(\\hat{V}_{FE}-\\hat{V}_{RE})^{-1}(\\hat{\\beta}_{FE} - \\hat{\\beta}_{RE})$$\n",
    "Which under null is distributed as $\\chi^2_K$, with K being the number of regressors.\n",
    "\n",
    "\n",
    "Under the null hypothesis, both RE and FE are consistent, but RE is more efficient. Under the alternative hypothesis, RE is inconsistent, while FE is still consistent. The Hausman test checks if the coefficient estimates from the two models are significantly different. If they are, we reject the null and prefer FE."
   ]
  }
 ],
 "metadata": {
  "kernelspec": {
   "display_name": ".venv",
   "language": "python",
   "name": "python3"
  },
  "language_info": {
   "codemirror_mode": {
    "name": "ipython",
    "version": 3
   },
   "file_extension": ".py",
   "mimetype": "text/x-python",
   "name": "python",
   "nbconvert_exporter": "python",
   "pygments_lexer": "ipython3",
   "version": "3.13.1"
  }
 },
 "nbformat": 4,
 "nbformat_minor": 2
}
