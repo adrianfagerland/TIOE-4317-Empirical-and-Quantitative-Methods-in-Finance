{
 "cells": [
  {
   "cell_type": "markdown",
   "metadata": {},
   "source": [
    "# 1"
   ]
  },
  {
   "cell_type": "code",
   "execution_count": 17,
   "metadata": {},
   "outputs": [],
   "source": [
    "import pandas as pd\n",
    "import numpy as np\n",
    "from utils import print_latex_table\n",
    "data = {\n",
    "    'Year': [2006, 2007, 2008, 2009, 2010, 2011, 2012, 2013],\n",
    "    'Bond Value': [36.9, 39.8, 42.4, 38.1, 36.4, 39.2, 44.6, 45.1],\n",
    "    'CPI Value': [108.0, 110.3, 113.6, 116.1, 118.4, 120.9, 123.2, 125.4]\n",
    "}\n",
    "df = pd.DataFrame(data)"
   ]
  },
  {
   "cell_type": "markdown",
   "metadata": {},
   "source": [
    "## (a)"
   ]
  },
  {
   "cell_type": "code",
   "execution_count": 18,
   "metadata": {},
   "outputs": [
    {
     "name": "stdout",
     "output_type": "stream",
     "text": [
      "\\begin{table}[H]\n",
      "\\centering\n",
      "\\caption{Bond Simple Returns}\n",
      "\\label{tab:bond_simple_returns}\n",
      "\\begin{tabular}{lrrr}\n",
      "\\toprule\n",
      "Year & Bond Value & Bond Simple Return \\\\\n",
      "\\midrule\n",
      "2006 & 36.90 & NaN \\\\\n",
      "2007 & 39.80 & 7.86 \\\\\n",
      "2008 & 42.40 & 6.53 \\\\\n",
      "2009 & 38.10 & -10.14 \\\\\n",
      "2010 & 36.40 & -4.46 \\\\\n",
      "2011 & 39.20 & 7.69 \\\\\n",
      "2012 & 44.60 & 13.78 \\\\\n",
      "2013 & 45.10 & 1.12 \\\\\n",
      "\\bottomrule\n",
      "\\end{tabular}\n",
      "\\end{table}\n",
      "\n"
     ]
    }
   ],
   "source": [
    "df[\"Bond Simple Return\"] = df[\"Bond Value\"].pct_change() * 100\n",
    "\n",
    "print_latex_table(\n",
    "    df, [\"Year\", \"Bond Value\", \"Bond Simple Return\"], \"Bond Simple Returns\"\n",
    ")"
   ]
  },
  {
   "cell_type": "markdown",
   "metadata": {},
   "source": [
    "## (b)"
   ]
  },
  {
   "cell_type": "code",
   "execution_count": 19,
   "metadata": {},
   "outputs": [
    {
     "name": "stdout",
     "output_type": "stream",
     "text": [
      "\\begin{table}[H]\n",
      "\\centering\n",
      "\\caption{Bond CC Returns}\n",
      "\\label{tab:bond_cc_returns}\n",
      "\\begin{tabular}{lrrr}\n",
      "\\toprule\n",
      "Year & Bond Value & Bond CC Return \\\\\n",
      "\\midrule\n",
      "2006 & 36.90 & NaN \\\\\n",
      "2007 & 39.80 & 7.57 \\\\\n",
      "2008 & 42.40 & 6.33 \\\\\n",
      "2009 & 38.10 & -10.69 \\\\\n",
      "2010 & 36.40 & -4.56 \\\\\n",
      "2011 & 39.20 & 7.41 \\\\\n",
      "2012 & 44.60 & 12.91 \\\\\n",
      "2013 & 45.10 & 1.11 \\\\\n",
      "\\bottomrule\n",
      "\\end{tabular}\n",
      "\\end{table}\n",
      "\n"
     ]
    }
   ],
   "source": [
    "df['Bond CC Return'] = np.log(df['Bond Value'] / df['Bond Value'].shift(1)) * 100\n",
    "\n",
    "print_latex_table(\n",
    "    df, [\"Year\", \"Bond Value\", \"Bond CC Return\"], \"Bond CC Returns\"\n",
    ")"
   ]
  },
  {
   "cell_type": "markdown",
   "metadata": {},
   "source": [
    "## (c)"
   ]
  },
  {
   "cell_type": "code",
   "execution_count": 20,
   "metadata": {},
   "outputs": [
    {
     "name": "stdout",
     "output_type": "stream",
     "text": [
      "\\begin{table}[H]\n",
      "\\centering\n",
      "\\caption{Bond Price in 2013 terms}\n",
      "\\label{tab:bond_price_in_2013_terms}\n",
      "\\begin{tabular}{lrrr}\n",
      "\\toprule\n",
      "Year & Bond Value & Bond Price in 2013 terms \\\\\n",
      "\\midrule\n",
      "2006 & 36.90 & 42.84 \\\\\n",
      "2007 & 39.80 & 45.25 \\\\\n",
      "2008 & 42.40 & 46.80 \\\\\n",
      "2009 & 38.10 & 41.15 \\\\\n",
      "2010 & 36.40 & 38.55 \\\\\n",
      "2011 & 39.20 & 40.66 \\\\\n",
      "2012 & 44.60 & 45.40 \\\\\n",
      "2013 & 45.10 & 45.10 \\\\\n",
      "\\bottomrule\n",
      "\\end{tabular}\n",
      "\\end{table}\n",
      "\n"
     ]
    }
   ],
   "source": [
    "cpi_2013 = df[df['Year'] == 2013]['CPI Value'].iloc[0]\n",
    "df['Bond Price in 2013 terms'] = df['Bond Value'] * (cpi_2013 / df['CPI Value'])\n",
    "\n",
    "print_latex_table(df, [\"Year\", \"Bond Value\", \"Bond Price in 2013 terms\"], \"Bond Price in 2013 terms\")"
   ]
  },
  {
   "cell_type": "markdown",
   "metadata": {},
   "source": [
    "## (d)"
   ]
  },
  {
   "cell_type": "code",
   "execution_count": 21,
   "metadata": {},
   "outputs": [
    {
     "name": "stdout",
     "output_type": "stream",
     "text": [
      "\\begin{table}[H]\n",
      "\\centering\n",
      "\\caption{Bond Real Return}\n",
      "\\label{tab:bond_real_return}\n",
      "\\begin{tabular}{lrrr}\n",
      "\\toprule\n",
      "Year & Bond Value & Bond Real Return \\\\\n",
      "\\midrule\n",
      "2006 & 36.90 & NaN \\\\\n",
      "2007 & 39.80 & 5.61 \\\\\n",
      "2008 & 42.40 & 3.44 \\\\\n",
      "2009 & 38.10 & -12.08 \\\\\n",
      "2010 & 36.40 & -6.32 \\\\\n",
      "2011 & 39.20 & 5.47 \\\\\n",
      "2012 & 44.60 & 11.65 \\\\\n",
      "2013 & 45.10 & -0.65 \\\\\n",
      "\\bottomrule\n",
      "\\end{tabular}\n",
      "\\end{table}\n",
      "\n"
     ]
    }
   ],
   "source": [
    "df[\"CPI Simple Return\"] = df[\"CPI Value\"].pct_change() * 100\n",
    "df['Bond Real Return'] = ((1 + df['Bond Simple Return']/100) / (1 + df['CPI Simple Return']/100)) - 1\n",
    "df['Bond Real Return'] *= 100  # Convert to percentage\n",
    "\n",
    "print_latex_table(df, [\"Year\", \"Bond Value\", \"Bond Real Return\"], \"Bond Real Return\")"
   ]
  },
  {
   "cell_type": "markdown",
   "metadata": {},
   "source": [
    "# 2"
   ]
  },
  {
   "cell_type": "markdown",
   "metadata": {},
   "source": [
    "**(a) Distribution of Y:**\n",
    "Given $X_i$, $Y_i$ follows a normal distribution: $Y_i | X_i \\sim N(\\beta_0 + \\beta_1X_i, \\sigma^2)$.\n",
    "\n",
    "\n",
    "**(b) Likelihood function:**\n",
    "Given that $Y_i | X_i \\sim N(\\beta_0 + \\beta_1X_i, \\sigma^2)$, the conditional probability density function (pdf) of $Y_i$ given $X_i$ is:\n",
    "\n",
    "$$f(y_i | x_i; \\beta_0, \\beta_1, \\sigma^2) = \\frac{1}{\\sqrt{2\\pi\\sigma^2}} \\exp\\left(- \\frac{(y_i - (\\beta_0 + \\beta_1x_i))^2}{2\\sigma^2}\\right)$$\n",
    "\n",
    "Since we have $n$ independent observations $(Y_1, X_1), (Y_2, X_2), ..., (Y_n, X_n)$, the likelihood function $L(\\beta_0, \\beta_1, \\sigma^2)$ is the product of the individual conditional pdfs:\n",
    "$$L(\\beta_0, \\beta_1, \\sigma^2) = \\prod_{i=1}^{n} f(y_i | x_i; \\beta_0, \\beta_1, \\sigma^2) = \\prod_{i=1}^{n} \\left[ \\frac{1}{\\sqrt{2\\pi\\sigma^2}} \\exp\\left(- \\frac{(y_i - (\\beta_0 + \\beta_1x_i))^2}{2\\sigma^2}\\right) \\right]$$\n",
    "This can be rewritten as:\n",
    "$$L(\\beta_0, \\beta_1, \\sigma^2) = \\left( \\frac{1}{\\sqrt{2\\pi\\sigma^2}} \\right)^n \\prod_{i=1}^{n} \\exp\\left(- \\frac{(y_i - (\\beta_0 + \\beta_1x_i))^2}{2\\sigma^2}\\right)$$\n",
    "$$L(\\beta_0, \\beta_1, \\sigma^2) = (2\\pi\\sigma^2)^{-n/2} \\exp\\left(\\sum_{i=1}^{n} \\left[ - \\frac{(y_i - (\\beta_0 + \\beta_1x_i))^2}{2\\sigma^2} \\right]\\right)$$\n",
    "$$L(\\beta_0, \\beta_1, \\sigma^2) = (2\\pi\\sigma^2)^{-n/2} \\exp\\left(- \\frac{1}{2\\sigma^2} \\sum_{i=1}^{n} (y_i - \\beta_0 - \\beta_1x_i)^2\\right)$$\n",
    "\n",
    "\n",
    "**(c) MLE = OLS:**\n",
    "To find the MLEs, we maximize the log-likelihood function $\\ell(\\beta_0, \\beta_1, \\sigma^2) = \\ln(L(\\beta_0, \\beta_1, \\sigma^2))$:\n",
    "$$\\ell(\\beta_0, \\beta_1, \\sigma^2) = - \\frac{n}{2} \\ln(2\\pi\\sigma^2) - \\frac{1}{2\\sigma^2} \\sum_{i=1}^{n} (y_i - \\beta_0 - \\beta_1x_i)^2$$\n",
    "\n",
    "To maximize $\\ell$ with respect to $\\beta_0$ and $\\beta_1$, we take partial derivatives and set them to zero:\n",
    "$$\\frac{\\partial\\ell}{\\partial\\beta_0} = \\frac{1}{\\sigma^2} \\sum_{i=1}^{n} (y_i - \\beta_0 - \\beta_1x_i) = 0  \\implies  \\sum_{i=1}^{n} (y_i - \\beta_0 - \\beta_1x_i) = 0$$\n",
    "$$\\frac{\\partial\\ell}{\\partial\\beta_1} = \\frac{1}{\\sigma^2} \\sum_{i=1}^{n} x_i (y_i - \\beta_0 - \\beta_1x_i) = 0  \\implies  \\sum_{i=1}^{n} x_i (y_i - \\beta_0 - \\beta_1x_i) = 0$$\n",
    "\n",
    "These are the normal equations for MLE.\n",
    "\n",
    "Now consider Ordinary Least Squares (OLS). OLS estimators minimize the sum of squared residuals (SSR):\n",
    "$$SSR(\\beta_0, \\beta_1) = \\sum_{i=1}^{n} (y_i - \\beta_0 - \\beta_1x_i)^2$$\n",
    "\n",
    "To minimize SSR, we take partial derivatives with respect to $\\beta_0$ and $\\beta_1$ and set them to zero:\n",
    "$$\\frac{\\partial SSR}{\\partial\\beta_0} = -2 \\sum_{i=1}^{n} (y_i - \\beta_0 - \\beta_1x_i) = 0  \\implies  \\sum_{i=1}^{n} (y_i - \\beta_0 - \\beta_1x_i) = 0$$\n",
    "$$\\frac{\\partial SSR}{\\partial\\beta_1} = -2 \\sum_{i=1}^{n} x_i (y_i - \\beta_0 - \\beta_1x_i) = 0  \\implies  \\sum_{i=1}^{n} x_i (y_i - \\beta_0 - \\beta_1x_i) = 0$$\n",
    "\n",
    "We observe that the normal equations derived from MLE are identical to the normal equations derived from OLS. Therefore, the MLEs for $\\beta_0$ and $\\beta_1$ are identical to the OLS estimators, i.e., $\\hat{\\beta}_{0,ML} = \\hat{\\beta}_{0,OLS}$ and $\\hat{\\beta}_{1,ML} = \\hat{\\beta}_{1,OLS}$."
   ]
  },
  {
   "cell_type": "markdown",
   "metadata": {},
   "source": [
    "# 3"
   ]
  },
  {
   "cell_type": "markdown",
   "metadata": {},
   "source": [
    "**PRF (Population Regression Function):**  Equation: $E(Y | X_i) = \\beta_0 + \\beta_1X_i$.  This equation describes the *true population relationship*.  Notice $E(Y|X_i)$, the *expected* average Y for a given X, and $\\beta_0, \\beta_1$, the *true population parameters* in the equation.\n",
    "\n",
    "**SRF (Sample Regression Function):** Equation: $\\hat{Y}_i =  \\hat{\\beta}_0 + \\hat{\\beta}_1X_i$. This equation is our *sample-based estimate*. See $\\hat{Y}_i$, the *predicted* Y for an observation in our sample, and $\\hat{\\beta}_0, \\hat{\\beta}_1$, the *estimated parameters* derived from our sample data in the equation.\n",
    "\n",
    "**Difference:** The core difference is in the equations' components.  PRF uses $E(Y|X_i)$ and true parameters ($\\beta_0, \\beta_1$) representing the *population's true relationship*. SRF uses $\\hat{Y}_i$ and estimated parameters ($\\hat{\\beta}_0, \\hat{\\beta}_1$) to *estimate* this relationship from a *sample*.  Essentially, the SRF equation *estimates* the PRF equation using sample data."
   ]
  },
  {
   "cell_type": "markdown",
   "metadata": {},
   "source": [
    "# 4"
   ]
  },
  {
   "cell_type": "markdown",
   "metadata": {},
   "source": [
    "Assumptions are made about the **unobservable error terms** ($\\epsilon_i$), which are part of the population regression model, not directly about the **estimated residuals** ($e_i$), which are their sample counterparts. We assume properties for $\\epsilon_i$ (like zero mean, etc.) to ensure our statistical inferences about the population parameters are valid. Residuals are calculated from the sample data *after* estimation and are used to *check* if the assumptions about the error terms are reasonably plausible in our sample, but the core assumptions are about the unobservable error terms in the population model, not the observable residuals in a specific sample."
   ]
  },
  {
   "cell_type": "markdown",
   "metadata": {},
   "source": [
    "# 5"
   ]
  },
  {
   "cell_type": "markdown",
   "metadata": {},
   "source": [
    "Linear regression assumes $E(Y | X_i) = \\beta_0 + \\beta_1X_i$. This equation means the *average* value of $Y$ for a given $X_i$ is assumed to be a linear function of $X_i$.\n",
    "\n",
    "Estimates $\\hat{\\beta}_0$ and $\\hat{\\beta}_1$ from $\\hat{Y}_i = \\hat{\\beta}_0 + \\hat{\\beta}_1X_i$ estimate:\n",
    "\n",
    "- $\\beta_1$: the change in the *conditional mean* of $Y$ for a one-unit change in $X$.\n",
    "- $\\beta_0$: the *conditional mean* of $Y$ when $X$ is zero.\n",
    "\n",
    "Meaning isn't guaranteed. If linearity is wrong or $X=0$ is irrelevant, interpretations (especially of $\\hat{\\beta}_0$) can be meaningless."
   ]
  },
  {
   "cell_type": "markdown",
   "metadata": {},
   "source": [
    "# 6"
   ]
  },
  {
   "cell_type": "markdown",
   "metadata": {},
   "source": [
    "## (a)"
   ]
  },
  {
   "cell_type": "code",
   "execution_count": 22,
   "metadata": {},
   "outputs": [
    {
     "data": {
      "image/png": "[encoded data removed]",
      "text/plain": [
       "<Figure size 800x600 with 1 Axes>"
      ]
     },
     "metadata": {},
     "output_type": "display_data"
    },
    {
     "data": {
      "image/png": "[encoded data removed]",
      "text/plain": [
       "<Figure size 800x600 with 1 Axes>"
      ]
     },
     "metadata": {},
     "output_type": "display_data"
    }
   ],
   "source": [
    "import pandas as pd\n",
    "import matplotlib.pyplot as plt\n",
    "import seaborn as sns\n",
    "\n",
    "df = pd.read_csv('ford.tsv', sep='\\t')\n",
    "ford_data = df[['Date', 'FORD', 'SANDP']].copy()\n",
    "\n",
    "plt.figure(figsize=(8, 6))\n",
    "plt.scatter(ford_data['SANDP'], ford_data['FORD'])\n",
    "plt.title('Scatter Plot of FORD vs SANDP')\n",
    "plt.xlabel('SANDP')\n",
    "plt.ylabel('FORD')\n",
    "plt.grid(True)\n",
    "plt.show()\n",
    "\n",
    "plt.figure(figsize=(8, 6))\n",
    "sns.histplot(ford_data['FORD'], kde=True)\n",
    "plt.title('Distribution Plot of FORD')\n",
    "plt.xlabel('FORD')\n",
    "plt.ylabel('Frequency')\n",
    "plt.show()"
   ]
  },
  {
   "cell_type": "markdown",
   "metadata": {},
   "source": [
    "Based on the scatter plot, there seems to be a positive relationship between the S&P and FORD. As the S&P increases, FORD also increases."
   ]
  },
  {
   "cell_type": "markdown",
   "metadata": {},
   "source": [
    "## (b)"
   ]
  },
  {
   "cell_type": "code",
   "execution_count": 23,
   "metadata": {},
   "outputs": [
    {
     "name": "stdout",
     "output_type": "stream",
     "text": [
      "\\begin{table}[H]\n",
      "\\centering\n",
      "\\caption{Summary Statistics}\n",
      "\\label{tab:summary_stats}\n",
      "\\begin{tabular}{lrrrrrr}\n",
      "\\toprule\n",
      "Mean & Median & Mode & Std Dev & Min & Max \\\\\n",
      "\\midrule\n",
      "9.60 & 9.42 & 9.35 & 3.12 & 1.81 & 16.24 \\\\\n",
      "\\bottomrule\n",
      "\\end{tabular}\n",
      "\\end{table}\n",
      "\n"
     ]
    }
   ],
   "source": [
    "def print_summary_statistics(df, columns=None):\n",
    "    \"\"\"Create summary statistics table with mode and median.\"\"\"\n",
    "    if columns is None:\n",
    "        columns = df.select_dtypes(include=['float64', 'int64']).columns\n",
    "        \n",
    "    stats = []\n",
    "    for col in columns:\n",
    "        col_stats = {\n",
    "            'Statistic': col,\n",
    "            'Mean': df[col].mean(),\n",
    "            'Median': df[col].median(),\n",
    "            'Mode': df[col].mode().iloc[0],\n",
    "            'Std Dev': df[col].std(),\n",
    "            'Min': df[col].min(),\n",
    "            'Max': df[col].max()\n",
    "        }\n",
    "        stats.append(col_stats)\n",
    "    \n",
    "    stats_df = pd.DataFrame(stats).set_index('Statistic')\n",
    "    \n",
    "    return print_latex_table(\n",
    "        stats_df.round(2)[[\"Mean\", \"Median\", \"Mode\", \"Std Dev\", \"Min\", \"Max\"]],\n",
    "        value_cols=[\"Mean\", \"Median\", \"Mode\", \"Std Dev\", \"Min\", \"Max\"],\n",
    "        caption=\"Summary Statistics\",\n",
    "        label=\"tab:summary_stats\",\n",
    "    )\n",
    "\n",
    "print_summary_statistics(ford_data[[\"FORD\"]])"
   ]
  },
  {
   "cell_type": "markdown",
   "metadata": {},
   "source": [
    "**Mean, Mode, and Median**\n",
    "\n",
    "The mean is the arithmetic average, calculated by summing all values and dividing by the number of values. It's important to note that the mean is sensitive to outliers, meaning extreme values can disproportionately influence it. The median, on the other hand, is the middle value in a dataset that has been sorted. This makes the median more robust to outliers as it's not pulled as much by extreme values. Finally, the mode is the most frequently occurring value within the dataset. There can be multiple modes or no mode at all. The most useful measure among these depends heavily on the data's distribution and the context of the analysis. For distributions that are roughly symmetrical, the mean, median, and mode tend to be similar. However, when dealing with skewed distributions, the median is often considered a more reliable measure of central tendency compared to the mean because of its resilience to outliers.\n",
    "\n",
    "**Arithmetic vs. Geometric Mean**\n",
    "\n",
    "When considering stock returns, it's important to distinguish between the arithmetic mean and the geometric mean. The arithmetic mean is simply the average of returns, but it can sometimes overestimate the actual growth of an investment over multiple periods, especially when volatility is present. This is because it doesn't fully account for the effects of compounding. In contrast, the geometric mean provides a more accurate picture of the compounded rate of return over multiple periods. It reflects the actual rate at which an investment grows over time, taking into account the compounding effect of returns. Therefore, for evaluating the long-term performance of stock investments, the geometric mean is generally considered a more useful metric as it provides a more realistic representation of investment growth."
   ]
  },
  {
   "cell_type": "markdown",
   "metadata": {},
   "source": [
    "## (c)"
   ]
  },
  {
   "cell_type": "code",
   "execution_count": 24,
   "metadata": {},
   "outputs": [
    {
     "name": "stdout",
     "output_type": "stream",
     "text": [
      "\\begin{table}[H]\n",
      "\\centering\n",
      "\\caption{Regression Results}\n",
      "\\label{tab:regression_results}\n",
      "\\begin{tabular}{lrrr}\n",
      "\\toprule\n",
      "Parameter & Estimate & Std. Error \\\\\n",
      "\\midrule\n",
      "Alpha & 0.01 & 0.01 \\\\\n",
      "Beta & 2.07 & 0.28 \\\\\n",
      "\\bottomrule\n",
      "\\end{tabular}\n",
      "\\end{table}\n",
      "\n"
     ]
    }
   ],
   "source": [
    "import statsmodels.api as sm\n",
    "from statsmodels.regression.linear_model import RegressionResultsWrapper\n",
    "\n",
    "ford_data['FORD_Return'] = ford_data['FORD'].pct_change()\n",
    "ford_data['SANDP_Return'] = ford_data['SANDP'].pct_change()\n",
    "ford_returns_data = ford_data.dropna()\n",
    "\n",
    "y = ford_returns_data['FORD_Return']\n",
    "X = ford_returns_data['SANDP_Return']\n",
    "X = sm.add_constant(X)\n",
    "\n",
    "model = sm.OLS(y, X)\n",
    "results: RegressionResultsWrapper = model.fit()\n",
    "\n",
    "alpha_estimate = results.params['const']\n",
    "beta_estimate = results.params['SANDP_Return']\n",
    "alpha_stderr = results.bse['const']\n",
    "beta_stderr = results.bse['SANDP_Return']\n",
    "\n",
    "print_latex_table(\n",
    "    pd.DataFrame({\n",
    "        'Parameter': ['Alpha', 'Beta'],\n",
    "        'Estimate': [alpha_estimate, beta_estimate],\n",
    "        'Std. Error': [alpha_stderr, beta_stderr]\n",
    "    }),\n",
    "    value_cols=['Parameter', 'Estimate', 'Std. Error'],\n",
    "    caption=\"Regression Results\",\n",
    "    label=\"tab:regression_results\",\n",
    ")"
   ]
  },
  {
   "cell_type": "markdown",
   "metadata": {},
   "source": [
    "**Interpretation of Regression Results (FORD Stock):**\n",
    "\n",
    "*   **Alpha ($\\alpha$):** The estimated alpha for FORD is approximately 0.01 (or 1%), with a standard error of 0.01. This positive alpha suggests that, over the period analyzed, FORD may have slightly outperformed what the market model would predict based on its risk (beta). However, given that the alpha estimate is of similar magnitude to its standard error, the statistical significance of this alpha might be weak, \n",
    "and we cannot draw a definitive conclusion based on this result alone. \n",
    "\n",
    "*   **Beta ($\\beta$):** The estimated beta for FORD is approximately 2.07, with a standard error of 0.28. This beta is significantly greater than 1.0.  It indicates that FORD stock is considerably more volatile than the market (SANDP). The beta estimate is statistically significant (much larger than its standard error), suggesting a robust relationship between FORD's returns and the market returns during this period."
   ]
  },
  {
   "cell_type": "markdown",
   "metadata": {},
   "source": [
    "## (d)"
   ]
  },
  {
   "cell_type": "code",
   "execution_count": 25,
   "metadata": {},
   "outputs": [
    {
     "name": "stdout",
     "output_type": "stream",
     "text": [
      "P-value for Beta: 0.0000\n"
     ]
    }
   ],
   "source": [
    "beta_p_value = results.pvalues['SANDP_Return']\n",
    "\n",
    "print(f\"P-value for Beta: {beta_p_value:.4f}\")"
   ]
  },
  {
   "cell_type": "markdown",
   "metadata": {},
   "source": [
    "There is statistically significant evidence that Beta ($\\Beta$) is different from zero.\n",
    "This suggests that there is a statistically significant relationship between FORD's return and the market (S&P) return. FORD's return is systematically related to market movements."
   ]
  },
  {
   "cell_type": "markdown",
   "metadata": {},
   "source": [
    "# 7"
   ]
  },
  {
   "cell_type": "markdown",
   "metadata": {},
   "source": [
    "**Type I Error** means rejecting a true hypothesis.  Like falsely claiming someone is guilty.\n",
    "\n",
    "**Type II Error** means failing to reject a false hypothesis. Like letting a guilty person go free.\n",
    "\n",
    "The **Significance Level ($\\alpha$):** means the chance of making a Type I error.  If we set it at 0.05 it means there is a 5% risk of a false positive.\n",
    "\n",
    "**(a) Type I Error More Important:** Testing a new drug for safety.  A false positive (saying it's safe when it's not) could harm many.\n",
    "\n",
    "**(b) Type II Error More Important:** Screening for a contagious disease. A false negative (missing a case) could lead to disease spread."
   ]
  },
  {
   "cell_type": "markdown",
   "metadata": {},
   "source": [
    "# 8"
   ]
  },
  {
   "cell_type": "markdown",
   "metadata": {},
   "source": [
    "Hypotheses are tested about the **actual (population) coefficients** ($\\beta_0, \\beta_1$), not just our sample estimates ($\\hat{\\beta}_0, \\hat{\\beta}_1$).\n",
    "\n",
    "We use sample estimates to *infer* about the true population values.  Hypothesis tests like testing if $\\beta_1 = 0$ ask: \"Is it likely the *true* slope in the population is zero, given our sample?\".\n",
    "\n",
    "Estimates vary sample to sample. We test claims about the fixed, population values, using our sample as evidence. We're interested in the underlying truth, not just describing our specific sample."
   ]
  }
 ],
 "metadata": {
  "kernelspec": {
   "display_name": ".venv",
   "language": "python",
   "name": "python3"
  },
  "language_info": {
   "codemirror_mode": {
    "name": "ipython",
    "version": 3
   },
   "file_extension": ".py",
   "mimetype": "text/x-python",
   "name": "python",
   "nbconvert_exporter": "python",
   "pygments_lexer": "ipython3",
   "version": "3.13.1"
  }
 },
 "nbformat": 4,
 "nbformat_minor": 2
}
